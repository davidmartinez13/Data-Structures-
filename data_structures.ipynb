{
 "cells": [
  {
   "cell_type": "markdown",
   "metadata": {},
   "source": [
    "Stack(fixed length)"
   ]
  },
  {
   "cell_type": "code",
   "execution_count": 47,
   "metadata": {},
   "outputs": [
    {
     "name": "stdout",
     "output_type": "stream",
     "text": [
      "Pushing...\n",
      "[0]\n",
      "[0, 1]\n",
      "[0, 1, 2]\n",
      "[0, 1, 2, 3]\n",
      "[0, 1, 2, 3, 4]\n",
      "[0, 1, 2, 3, 4, 5]\n",
      "Stack full\n",
      "[0, 1, 2, 3, 4, 5]\n",
      "Popping...\n",
      "[0, 1, 2, 3, 4]\n",
      "[0, 1, 2, 3]\n",
      "[0, 1, 2]\n",
      "[0, 1]\n",
      "[0]\n",
      "[]\n",
      "Stack empty\n",
      "[]\n"
     ]
    }
   ],
   "source": [
    "class stack:\n",
    "    def __init__(self, length):\n",
    "        self.length = length\n",
    "        self.stack_list = []\n",
    "\n",
    "    def __str__(self):\n",
    "        return str(self.stack_list)\n",
    "\n",
    "    def push(self,item):\n",
    "        if len(self.stack_list) <= self.length-1:\n",
    "            self.stack_list.append(item)\n",
    "        else:\n",
    "            print(\"Stack full\")\n",
    "\n",
    "    def pop(self):\n",
    "        if len(self.stack_list) > 0:\n",
    "            self.stack_list.pop(-1)\n",
    "        elif len(self.stack_list) == 0:\n",
    "            print(\"Stack empty\")\n",
    "    \n",
    "stack1 = stack(6)\n",
    "print('Pushing...')\n",
    "for j in range(7):\n",
    "    stack1.push(j)\n",
    "    print(stack1)\n",
    "\n",
    "print('Popping...')\n",
    "for i in range(7):\n",
    "    stack1.pop()\n",
    "    print(stack1)"
   ]
  },
  {
   "cell_type": "markdown",
   "metadata": {},
   "source": [
    "Queue"
   ]
  },
  {
   "cell_type": "code",
   "execution_count": 48,
   "metadata": {},
   "outputs": [
    {
     "name": "stdout",
     "output_type": "stream",
     "text": [
      "Enqueueing...\n",
      "[0]\n",
      "[0, 1]\n",
      "[0, 1, 2]\n",
      "[0, 1, 2, 3]\n",
      "[0, 1, 2, 3, 4]\n",
      "[0, 1, 2, 3, 4, 5]\n",
      "Dequeueing...\n",
      "[1, 2, 3, 4, 5]\n",
      "[2, 3, 4, 5]\n",
      "[3, 4, 5]\n",
      "[4, 5]\n",
      "[5]\n",
      "Empty queue\n",
      "[]\n"
     ]
    }
   ],
   "source": [
    "class queue:\n",
    "    def __init__(self,):\n",
    "        self.queue_list = []\n",
    "\n",
    "    def __str__(self):\n",
    "        return str(self.queue_list)\n",
    "\n",
    "    def enqueue(self,item):\n",
    "        self.queue_list.append(item)\n",
    "\n",
    "    def dequeue(self):\n",
    "        self.queue_list.pop(0)\n",
    "        if len(self.queue_list) == 0:\n",
    "            print('Empty queue')\n",
    "\n",
    "queue1 = queue()\n",
    "print('Enqueueing...')\n",
    "\n",
    "for i in range(6):\n",
    "    queue1.enqueue(i)\n",
    "    print(queue1)\n",
    "\n",
    "print('Dequeueing...')\n",
    "for j in range(6):\n",
    "    queue1.dequeue()\n",
    "    print(queue1)"
   ]
  },
  {
   "cell_type": "markdown",
   "metadata": {},
   "source": []
  },
  {
   "cell_type": "markdown",
   "metadata": {},
   "source": [
    "Linked List"
   ]
  },
  {
   "cell_type": "code",
   "execution_count": 2,
   "metadata": {},
   "outputs": [
    {
     "name": "stdout",
     "output_type": "stream",
     "text": [
      "1\n",
      "3-->2-->1-->\n"
     ]
    }
   ],
   "source": [
    "class Node:\n",
    "    def __init__(self,value = None, next_node = None):\n",
    "        self.value = value\n",
    "        self.next = next_node\n",
    "class LinkedList:\n",
    "    def __init__(self,head = None):\n",
    "        self.head = head\n",
    "    def __str__(self):\n",
    "        if self.head is None:\n",
    "            return \"Linked list is empty\"\n",
    "        i_node = self.head\n",
    "        list_str = ''\n",
    "        while i_node:\n",
    "            list_str += str(i_node.value)+'-->'# if i_node.next else str(i_node.value)\n",
    "            i_node = i_node.next\n",
    "        return list_str\n",
    "    def add_head(self, value):\n",
    "        is_head_undefined = self.head is None\n",
    "        if is_head_undefined:\n",
    "            self.head = Node(value = value)\n",
    "        else:\n",
    "            new_head = Node(value=value,next_node = self.head)\n",
    "            self.head = new_head\n",
    "l_list = LinkedList()\n",
    "\n",
    "l_list.add_head(1)    \n",
    "l_list.add_head(2)    \n",
    "l_list.add_head(3)\n",
    "print(l_list.head.next.next.value)    \n",
    "print(l_list)    "
   ]
  }
 ],
 "metadata": {
  "interpreter": {
   "hash": "591c6f4e8dd5a542de00483db20b0b87b0b9cd63ff50a8e7046c5495cf4003fe"
  },
  "kernelspec": {
   "display_name": "Python 3.7.3 64-bit",
   "name": "python3"
  },
  "language_info": {
   "codemirror_mode": {
    "name": "ipython",
    "version": 3
   },
   "file_extension": ".py",
   "mimetype": "text/x-python",
   "name": "python",
   "nbconvert_exporter": "python",
   "pygments_lexer": "ipython3",
   "version": "3.7.3"
  },
  "orig_nbformat": 4
 },
 "nbformat": 4,
 "nbformat_minor": 2
}
